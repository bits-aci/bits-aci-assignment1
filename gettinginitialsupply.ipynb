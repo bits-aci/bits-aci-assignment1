{
  "nbformat": 4,
  "nbformat_minor": 0,
  "metadata": {
    "colab": {
      "provenance": [],
      "authorship_tag": "ABX9TyOXJpk39c26JJctUI9YOXUS",
      "include_colab_link": true
    },
    "kernelspec": {
      "name": "python3",
      "display_name": "Python 3"
    },
    "language_info": {
      "name": "python"
    }
  },
  "cells": [
    {
      "cell_type": "markdown",
      "metadata": {
        "id": "view-in-github",
        "colab_type": "text"
      },
      "source": [
        "<a href=\"https://colab.research.google.com/github/bits-aci/bits-aci-assignment1/blob/dev/gettinginitialsupply.ipynb\" target=\"_parent\"><img src=\"https://colab.research.google.com/assets/colab-badge.svg\" alt=\"Open In Colab\"/></a>"
      ]
    },
    {
      "cell_type": "code",
      "execution_count": null,
      "metadata": {
        "colab": {
          "base_uri": "https://localhost:8080/"
        },
        "id": "_saJQ2ep8uVQ",
        "outputId": "ecacd74d-ceb6-4767-c879-c581083f613e"
      },
      "outputs": [
        {
          "output_type": "stream",
          "name": "stdout",
          "text": [
            "Enter number of rice packets: 1\n",
            "Enter Kg of rice per packet: 1\n",
            "Enter number of flour packets: 1\n",
            "Enter Kg of flour per packet: 1\n",
            "Enter number of dhal packets: 1\n",
            "Enter Kg of dhal per packet: 1\n",
            "Enter number of milk cartons: 1\n",
            "Enter ml of mil per carton:5 1\n",
            "Enter number of bread loaves: 1\n",
            "Number of ricePackets:  1.0\n",
            "Kg of rice per packet:  1.0\n",
            "Total amount of rice:  1.0\n",
            "Number of flourPackets:  1.0\n",
            "Kg of flour per packet:  1.0\n",
            "Total amount of flour:  1.0\n",
            "Number of dhalPackets:  1.0\n",
            "Kg of dhal per packet:  1.0\n",
            "Total amount of dhal:  1.0\n",
            "Number of milkCartons:  1.0\n",
            "ML of milk per packet:  1.0\n",
            "Total amount of milk:  1.0\n",
            "Number of breadLoaves:  1.0\n",
            "Total amount of bread:  1.0\n",
            "1.0\n"
          ]
        }
      ],
      "source": [
        "# Data strcuture to represent each tenant\n",
        "\n",
        "class foodSupply:\n",
        "  def __init__(self, ricePackets,riceKgperPacket,flourPackets,flourKgperPacket,\n",
        "               dhalPackets,dhalKgperPacket,milkCartons,milkMLperCarton,\n",
        "               breadLoaves):\n",
        "    self.ricePackets = ricePackets\n",
        "    self.riceKgperPacket = riceKgperPacket\n",
        "    self.flourPackets = flourPackets\n",
        "    self.flourKgperPacket = flourKgperPacket\n",
        "    self.dhalPackets = dhalPackets\n",
        "    self.dhalKgperPacket = dhalKgperPacket\n",
        "    self.milkCartons = milkCartons\n",
        "    self.milkMLperCarton = milkMLperCarton\n",
        "    self.breadLoaves = breadLoaves\n",
        "\n",
        "    def updateSupply(rice,flour,dhal,milk,bread):\n",
        "      return 0\n",
        "\n",
        "ricePackets = float(input(\"Enter number of rice packets: \"))\n",
        "riceKgperPacket = float(input(\"Enter Kg of rice per packet: \"))\n",
        "flourPackets = float(input(\"Enter number of flour packets: \"))\n",
        "flourKgperPacket = float(input(\"Enter Kg of flour per packet: \"))\n",
        "dhalPackets = float(input(\"Enter number of dhal packets: \"))\n",
        "dhalKgperPacket = float(input(\"Enter Kg of dhal per packet: \"))\n",
        "milkCartons = float(input(\"Enter number of milk cartons: \"))\n",
        "milkMLperCarton = float(input(\"Enter ml of mil per carton:5 \"))\n",
        "breadLoaves = float(input(\"Enter number of bread loaves: \"))\n",
        "\n",
        "print(\"Number of ricePackets: \", ricePackets)\n",
        "print(\"Kg of rice per packet: \", riceKgperPacket)\n",
        "print(\"Total amount of rice: \", ricePackets * riceKgperPacket)\n",
        "\n",
        "print(\"Number of flourPackets: \", flourPackets)\n",
        "print(\"Kg of flour per packet: \", flourKgperPacket)\n",
        "print(\"Total amount of flour: \", flourPackets * flourKgperPacket)\n",
        "\n",
        "print(\"Number of dhalPackets: \", dhalPackets)\n",
        "print(\"Kg of dhal per packet: \", dhalKgperPacket)\n",
        "print(\"Total amount of dhal: \", dhalPackets * dhalKgperPacket)\n",
        "\n",
        "\n",
        "print(\"Number of milkCartons: \", milkCartons)\n",
        "print(\"ML of milk per packet: \", milkMLperCarton)\n",
        "print(\"Total amount of milk: \", milkCartons * milkMLperCarton)\n",
        "\n",
        "\n",
        "print(\"Number of breadLoaves: \", breadLoaves)\n",
        "print(\"Total amount of bread: \", breadLoaves)\n",
        "\n",
        "foodSupply.ricePackets = ricePackets\n",
        "foodSupply.riceKgperPacket = riceKgperPacket\n",
        "foodSupply.flourPackets = flourPackets\n",
        "foodSupply.flourKgperPacket = flourKgperPacket\n",
        "foodSupply.dhalPackets = dhalPackets\n",
        "foodSupply.dhalKgperPacket = dhalKgperPacket\n",
        "foodSupply.milkCartons = milkCartons\n",
        "foodSupply.milkMLperCarton = milkMLperCarton\n",
        "foodSupply.breadLoaves = breadLoaves\n",
        "\n",
        "print(foodSupply.dhalKgperPacket)\n",
        "\n",
        "\n",
        "class tent:\n",
        "  def __init__(self, tent_no, adult, children):\n",
        "     self.tent_no = tent_no\n",
        "     self.adult = adult\n",
        "     self.children = children\n",
        "\n",
        "class adult:\n",
        "  def __init__(self, rice_needed, flour_needed, dhal_needed):\n",
        "    self.rice_needed = rice_needed\n",
        "    self.flour_needed = flour_needed\n",
        "    self.dhal_needed = dhal_needed\n",
        "\n",
        "\n",
        "class children:\n",
        "  def __init__(self, milk_needed, bread_needed):\n",
        "    self.milk_needed = milk_needed\n",
        "    self.bread_needed = bread_needed\n",
        "\n",
        "class agent:\n",
        "  def __init__(self, rice,flour,dhal,milk,bread, total_capacity, capacity_left):\n",
        "    self.rice = rice\n",
        "    self.flour = flour\n",
        "    self.dhal = dhal\n",
        "    self.milk = milk\n",
        "    self.bread = bread\n",
        "    self.total_capacity = total_capacity\n",
        "    self.capacity_left = capacity_left"
      ]
    }
  ]
}